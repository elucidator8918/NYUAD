{
  "cells": [
    {
      "cell_type": "code",
      "execution_count": 3,
      "id": "a7f629bf-f51d-4e63-9d1a-b17b700b3b35",
      "metadata": {
        "colab": {
          "base_uri": "https://localhost:8080/"
        },
        "id": "a7f629bf-f51d-4e63-9d1a-b17b700b3b35",
        "outputId": "cd8ea6f6-8437-4a70-8370-60740119c409"
      },
      "outputs": [
        {
          "output_type": "stream",
          "name": "stdout",
          "text": [
            "Mounted at /content/drive\n"
          ]
        }
      ],
      "source": [
        "#Mount Google Drive\n",
        "from google.colab import drive\n",
        "drive.mount('/content/drive')"
      ]
    },
    {
      "cell_type": "code",
      "execution_count": 1,
      "id": "c231a0ea-80c6-4cf0-8ca8-f1b7432608e6",
      "metadata": {
        "id": "c231a0ea-80c6-4cf0-8ca8-f1b7432608e6"
      },
      "outputs": [],
      "source": [
        "# import numpy as np\n",
        "# import pandas as pd\n",
        "# from sklearn.ensemble import IsolationForest\n",
        "# from sklearn.preprocessing import StandardScaler\n",
        "# import matplotlib.pyplot as plt\n",
        "# from sklearn.metrics import silhouette_score\n",
        "\n",
        "# # 1. Load a part of the LANL data\n",
        "# # (Adjust the path to where your file is located)\n",
        "# data = pd.read_csv(\n",
        "#     '/content/drive/MyDrive/LANL-Earthquake-Prediction/train.csv',\n",
        "#     dtype={'acoustic_data': np.int16, 'time_to_failure': np.float32},\n",
        "#     nrows=50000000  # <-- This limits it to 50 million rows\n",
        "# )"
      ]
    },
    {
      "cell_type": "code",
      "execution_count": 5,
      "id": "cf9b9e9a-143b-41c8-a058-7ac5b1163263",
      "metadata": {
        "id": "cf9b9e9a-143b-41c8-a058-7ac5b1163263"
      },
      "outputs": [],
      "source": [
        "\n",
        "\n",
        "# # 2. Prepare the data\n",
        "# # We'll work with chunks because the dataset is huge\n",
        "# chunk_size = 150\n",
        "# segments = []\n",
        "\n",
        "# for start in range(0, len(data), chunk_size):\n",
        "#     end = start + chunk_size\n",
        "#     if end > len(data):\n",
        "#         break\n",
        "#     chunk = data.iloc[start:end]\n",
        "\n",
        "#     # Simple feature extraction for each chunk\n",
        "#     features = [\n",
        "#         chunk['acoustic_data'].mean(),\n",
        "#         chunk['acoustic_data'].std(),\n",
        "#         chunk['acoustic_data'].min(),\n",
        "#         chunk['acoustic_data'].max(),\n",
        "#         chunk['acoustic_data'].skew(),\n",
        "#         chunk['acoustic_data'].kurt()\n",
        "#     ]\n",
        "#     segments.append(features)\n",
        "\n",
        "# X = np.array(segments)\n",
        "\n",
        "# # 3. Normalize the features\n",
        "# scaler = StandardScaler()\n",
        "# X_scaled = scaler.fit_transform(X)\n",
        "\n",
        "# # 4. Train Isolation Forest\n",
        "# model = IsolationForest(contamination=0.001, random_state=42)\n",
        "# model.fit(X_scaled)\n",
        "\n",
        "# # 5. Predict anomalies (basic method)\n",
        "# predictions = model.predict(X_scaled)\n",
        "# # -1 = anomaly, 1 = normal\n",
        "\n",
        "# # 6. Get anomaly scores\n",
        "# scores = model.decision_function(X_scaled)\n",
        "\n",
        "# # 7. Plot basic prediction results\n",
        "# plt.figure(figsize=(12, 6))\n",
        "# plt.plot(predictions, marker='o', linestyle='-', label='Anomaly Detection')\n",
        "# plt.axhline(0, color='red', linestyle='--')\n",
        "# plt.title('Isolation Forest Anomaly Detection (Chunks)')\n",
        "# plt.xlabel('Chunk Index')\n",
        "# plt.ylabel('Prediction (1 = normal, -1 = anomaly)')\n",
        "# plt.legend()\n",
        "# plt.show()\n",
        "\n",
        "# # 8. Plot anomaly scores\n",
        "# plt.figure(figsize=(14, 6))\n",
        "# plt.plot(scores, marker='o', linestyle='-', label='Anomaly Score')\n",
        "# plt.axhline(y=np.percentile(scores, 1), color='red', linestyle='--', label='1% threshold')\n",
        "# plt.title('Anomaly Scores from Isolation Forest')\n",
        "# plt.xlabel('Chunk Index')\n",
        "# plt.ylabel('Anomaly Score')\n",
        "# plt.legend()\n",
        "# plt.show()\n",
        "\n",
        "# # 9. Print anomaly chunks\n",
        "# anomaly_indices = np.where(predictions == -1)[0]\n",
        "# print(f\"Anomalies detected at chunks: {anomaly_indices}\")\n"
      ]
    },
    {
      "cell_type": "code",
      "execution_count": 15,
      "id": "af9abdf8-b788-4018-a038-c994c416992b",
      "metadata": {
        "id": "af9abdf8-b788-4018-a038-c994c416992b"
      },
      "outputs": [],
      "source": [
        "# import numpy as np\n",
        "# import pandas as pd\n",
        "# import matplotlib.pyplot as plt\n",
        "# from sklearn.ensemble import IsolationForest\n",
        "# from sklearn.preprocessing import StandardScaler\n",
        "# from sklearn.metrics import confusion_matrix, f1_score, silhouette_score\n",
        "\n",
        "# def detect_anomalies(data, contamination=0.01, chunk_size=150000, plot_results=True):\n",
        "#     # 1. Split data into chunks\n",
        "#     segments = []\n",
        "#     for start in range(0, len(data), chunk_size):\n",
        "#         end = start + chunk_size\n",
        "#         if end > len(data):\n",
        "#             break\n",
        "#         chunk = data.iloc[start:end]\n",
        "\n",
        "#         features = [\n",
        "#             chunk['acoustic_data'].mean(),\n",
        "#             chunk['acoustic_data'].std(),\n",
        "#             chunk['acoustic_data'].min(),\n",
        "#             chunk['acoustic_data'].max(),\n",
        "#             chunk['acoustic_data'].skew(),\n",
        "#             chunk['acoustic_data'].kurt()\n",
        "#         ]\n",
        "#         segments.append(features)\n",
        "\n",
        "#     X = np.array(segments)\n",
        "\n",
        "#     # 2. Normalize features\n",
        "#     scaler = StandardScaler()\n",
        "#     X_scaled = scaler.fit_transform(X)\n",
        "\n",
        "#     # 3. Train Isolation Forest\n",
        "#     model = IsolationForest(contamination=contamination, random_state=42)\n",
        "#     model.fit(X_scaled)\n",
        "\n",
        "#     # 4. Predict anomalies\n",
        "#     predictions = model.predict(X_scaled)  # -1 = anomaly, 1 = normal\n",
        "#     predictions = np.where(predictions == 1, 0, 1)  # 0 = normal, 1 = anomaly\n",
        "\n",
        "#     # 5. Plot results\n",
        "#     if plot_results:\n",
        "#         plt.figure(figsize=(12, 6))\n",
        "#         plt.plot(predictions, marker='o', linestyle='-', label='Anomaly Detection')\n",
        "#         plt.axhline(0.5, color='red', linestyle='--')\n",
        "#         plt.title('Isolation Forest Anomaly Detection (Chunks)')\n",
        "#         plt.xlabel('Chunk Index')\n",
        "#         plt.ylabel('Prediction (0 = normal, 1 = anomaly)')\n",
        "#         plt.legend()\n",
        "#         plt.show()\n",
        "\n",
        "#     # 6. Compute confusion matrix and F1 score based on predictions\n",
        "#     normal_baseline = np.zeros_like(predictions)  # Assume all data was \"normal\" as baseline\n",
        "\n",
        "#     # 7. Compute Silhouette Score (unsupervised clustering quality)\n",
        "#     sil_score = silhouette_score(X_scaled, predictions)\n",
        "#     print(f\"\\nSilhouette Score (unsupervised cluster separation): {sil_score:.4f}\")\n",
        "\n",
        "#     # 8. Return 0/1 list\n",
        "#     return predictions.tolist()\n",
        "import numpy as np\n",
        "import pandas as pd\n",
        "import matplotlib.pyplot as plt\n",
        "from sklearn.ensemble import IsolationForest\n",
        "from sklearn.preprocessing import StandardScaler\n",
        "from sklearn.metrics import confusion_matrix, f1_score, silhouette_score\n",
        "\n",
        "def detect_anomalies(data, contamination=0.01, chunk_size=100, plot_results=True):\n",
        "    # 1. Split data into chunks\n",
        "    segments = []\n",
        "    for start in range(0, len(data), chunk_size):\n",
        "        end = start + chunk_size\n",
        "        if end > len(data):\n",
        "            break\n",
        "        chunk = data.iloc[start:end]\n",
        "\n",
        "        features = [\n",
        "            chunk.iloc[:, 0].mean(),    # Assume values are in the first column (column 0)\n",
        "            chunk.iloc[:, 0].std(),\n",
        "            chunk.iloc[:, 0].min(),\n",
        "            chunk.iloc[:, 0].max(),\n",
        "            chunk.iloc[:, 0].skew(),\n",
        "            chunk.iloc[:, 0].kurt()\n",
        "        ]\n",
        "        segments.append(features)\n",
        "\n",
        "    X = np.array(segments)\n",
        "\n",
        "    # 2. Normalize features\n",
        "    scaler = StandardScaler()\n",
        "    X_scaled = scaler.fit_transform(X)\n",
        "\n",
        "    # 3. Train Isolation Forest\n",
        "    model = IsolationForest(contamination=contamination, random_state=42)\n",
        "    model.fit(X_scaled)\n",
        "\n",
        "    # 4. Predict anomalies\n",
        "    predictions = model.predict(X_scaled)  # -1 = anomaly, 1 = normal\n",
        "    predictions = np.where(predictions == 1, 0, 1)  # 0 = normal, 1 = anomaly\n",
        "\n",
        "    # 5. Plot results\n",
        "    if plot_results:\n",
        "        plt.figure(figsize=(12, 6))\n",
        "        plt.plot(predictions, marker='o', linestyle='-', label='Anomaly Detection')\n",
        "        plt.axhline(0.5, color='red', linestyle='--')\n",
        "        plt.title('Isolation Forest Anomaly Detection (Chunks)')\n",
        "        plt.xlabel('Chunk Index')\n",
        "        plt.ylabel('Prediction (0 = normal, 1 = anomaly)')\n",
        "        plt.legend()\n",
        "        plt.show()\n",
        "\n",
        "    # 6. Compute confusion matrix and F1 score assuming all data was normal\n",
        "    normal_baseline = np.zeros_like(predictions)  # Assume true labels are all normal (0)\n",
        "\n",
        "    # 7. Compute Silhouette Score (unsupervised cluster separation quality)\n",
        "    sil_score = silhouette_score(X_scaled, predictions)\n",
        "    print(f\"\\nSilhouette Score (unsupervised cluster separation): {sil_score:.4f}\")\n",
        "\n",
        "    # 8. Return predictions (0 = normal, 1 = anomaly)\n",
        "    return predictions.tolist()\n"
      ]
    },
    {
      "cell_type": "code",
      "execution_count": 16,
      "id": "60062f42-ff2b-40f5-948e-11c08aa8dcf3",
      "metadata": {
        "colab": {
          "base_uri": "https://localhost:8080/",
          "height": 635
        },
        "id": "60062f42-ff2b-40f5-948e-11c08aa8dcf3",
        "outputId": "53bd4a50-bd7d-4eae-a998-2dcf937ae646"
      },
      "outputs": [
        {
          "output_type": "display_data",
          "data": {
            "text/plain": [
              "<Figure size 1200x600 with 1 Axes>"
            ],
            "image/png": "[encoded data removed]"
          },
          "metadata": {}
        },
        {
          "output_type": "stream",
          "name": "stdout",
          "text": [
            "\n",
            "Silhouette Score (unsupervised cluster separation): 0.7635\n",
            "[0, 0, 0, 0, 0, 0, 0, 0, 0, 0, 0, 0, 0, 0, 0, 0, 0, 0, 0, 1, 0, 0, 0, 0, 0, 0, 0, 0, 0, 0, 0, 0, 0, 0, 0, 0, 0, 0, 0, 0, 0, 0, 0, 0, 0, 0, 0, 0, 0, 0, 0, 0, 0, 0, 0, 1, 0, 0, 0, 0, 0, 0]\n"
          ]
        }
      ],
      "source": [
        "predictions = detect_anomalies(data, contamination=0.02)\n",
        "print(predictions)\n"
      ]
    },
    {
      "cell_type": "code",
      "execution_count": 13,
      "id": "7677f23f-bf82-41f4-979b-161dcffc2e59",
      "metadata": {
        "id": "7677f23f-bf82-41f4-979b-161dcffc2e59"
      },
      "outputs": [],
      "source": []
    }
  ],
  "metadata": {
    "kernelspec": {
      "display_name": "Python 3 (ipykernel)",
      "language": "python",
      "name": "python3"
    },
    "language_info": {
      "codemirror_mode": {
        "name": "ipython",
        "version": 3
      },
      "file_extension": ".py",
      "mimetype": "text/x-python",
      "name": "python",
      "nbconvert_exporter": "python",
      "pygments_lexer": "ipython3",
      "version": "3.12.3"
    },
    "colab": {
      "provenance": []
    }
  },
  "nbformat": 4,
  "nbformat_minor": 5
}